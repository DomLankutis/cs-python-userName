{
 "cells": [
  {
   "cell_type": "code",
   "execution_count": null,
   "metadata": {},
   "outputs": [],
   "source": [
    "## Creating a Username (Python)\n",
    "\n",
    "## Consider making a flowchart of this program before programming it.\n",
    "\n",
    "## First ask the user if they are Male or Female (or identifies as neither).\n",
    "\n",
    "## Then ask the user for their First Name and their Last Name.\n",
    "\n",
    "## If the user is a male: The username that should be generated will be the first two letters of their first name, and the first three letters of their second name. \n",
    "\n",
    "## If the user is a female: The username that should be generated will be the first three letters of their first name, and the last two letters of their last name.\n",
    "\n",
    "## If the user identifies as neither: The username that should be generated will be the first letter of their first name, and the whole of their second name.\n",
    "\n",
    "## Extension\n",
    "\n",
    "## Edit the program so that many usernames can be added (one after the other) and stored in a list. (What loop will you need)\n",
    "\n",
    "## Once you are satisfied that all the usernames are added, print the list in reverse alphabetical order.\n"
   ]
  },
  {
   "cell_type": "code",
   "execution_count": null,
   "metadata": {},
   "outputs": [],
   "source": [
    "## What does this piece of code do?\n",
    "\n",
    "str1 = \"ada college\"\n",
    "\n",
    "str2 = string1[0:2]"
   ]
  },
  {
   "cell_type": "code",
   "execution_count": null,
   "metadata": {},
   "outputs": [],
   "source": [
    "## Taking an input and storing it as a variable\n",
    "\n",
    "str3 = input(\"Input a string \\n\")\n",
    "\n",
    "print (str3)\n"
   ]
  },
  {
   "cell_type": "code",
   "execution_count": null,
   "metadata": {},
   "outputs": [],
   "source": []
  }
 ],
 "metadata": {
  "kernelspec": {
   "display_name": "Python 3",
   "language": "python",
   "name": "python3"
  },
  "language_info": {
   "codemirror_mode": {
    "name": "ipython",
    "version": 3
   },
   "file_extension": ".py",
   "mimetype": "text/x-python",
   "name": "python",
   "nbconvert_exporter": "python",
   "pygments_lexer": "ipython3",
   "version": "3.5.2"
  }
 },
 "nbformat": 4,
 "nbformat_minor": 2
}
